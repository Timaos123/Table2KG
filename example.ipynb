{
 "cells": [
  {
   "cell_type": "markdown",
   "metadata": {},
   "source": [
    "以下代码见example.py"
   ]
  },
  {
   "cell_type": "markdown",
   "metadata": {},
   "source": [
    "# 数据结构"
   ]
  },
  {
   "cell_type": "code",
   "execution_count": 1,
   "metadata": {},
   "outputs": [],
   "source": [
    "import pandas as pd"
   ]
  },
  {
   "cell_type": "code",
   "execution_count": 2,
   "metadata": {},
   "outputs": [
    {
     "data": {
      "text/html": [
       "<div>\n",
       "<style scoped>\n",
       "    .dataframe tbody tr th:only-of-type {\n",
       "        vertical-align: middle;\n",
       "    }\n",
       "\n",
       "    .dataframe tbody tr th {\n",
       "        vertical-align: top;\n",
       "    }\n",
       "\n",
       "    .dataframe thead th {\n",
       "        text-align: right;\n",
       "    }\n",
       "</style>\n",
       "<table border=\"1\" class=\"dataframe\">\n",
       "  <thead>\n",
       "    <tr style=\"text-align: right;\">\n",
       "      <th></th>\n",
       "      <th>student</th>\n",
       "      <th>学生姓名</th>\n",
       "      <th>语文</th>\n",
       "      <th>数学</th>\n",
       "      <th>英语</th>\n",
       "      <th>mentor</th>\n",
       "      <th>班主任姓名</th>\n",
       "      <th>班主任年龄</th>\n",
       "      <th>班级</th>\n",
       "      <th>highSchool</th>\n",
       "      <th>高中名</th>\n",
       "      <th>是否是示范性高中</th>\n",
       "      <th>middleSchool</th>\n",
       "      <th>初中名</th>\n",
       "      <th>是否是私立学校</th>\n",
       "    </tr>\n",
       "  </thead>\n",
       "  <tbody>\n",
       "    <tr>\n",
       "      <th>0</th>\n",
       "      <td>1</td>\n",
       "      <td>卡萨丁</td>\n",
       "      <td>82</td>\n",
       "      <td>92</td>\n",
       "      <td>84</td>\n",
       "      <td>1</td>\n",
       "      <td>卡萨布兰卡</td>\n",
       "      <td>25</td>\n",
       "      <td>电包1401</td>\n",
       "      <td>1</td>\n",
       "      <td>市立见泷原中学</td>\n",
       "      <td>否</td>\n",
       "      <td>1</td>\n",
       "      <td>帝丹学校</td>\n",
       "      <td>否</td>\n",
       "    </tr>\n",
       "    <tr>\n",
       "      <th>1</th>\n",
       "      <td>2</td>\n",
       "      <td>姜子牙</td>\n",
       "      <td>73</td>\n",
       "      <td>87</td>\n",
       "      <td>94</td>\n",
       "      <td>1</td>\n",
       "      <td>卡萨布兰卡</td>\n",
       "      <td>25</td>\n",
       "      <td>电包1401</td>\n",
       "      <td>2</td>\n",
       "      <td>很水中学</td>\n",
       "      <td>否</td>\n",
       "      <td>2</td>\n",
       "      <td>艾利斯顿商学院</td>\n",
       "      <td>是</td>\n",
       "    </tr>\n",
       "    <tr>\n",
       "      <th>2</th>\n",
       "      <td>3</td>\n",
       "      <td>孙玉忠同志</td>\n",
       "      <td>86</td>\n",
       "      <td>89</td>\n",
       "      <td>99</td>\n",
       "      <td>1</td>\n",
       "      <td>卡萨布兰卡</td>\n",
       "      <td>25</td>\n",
       "      <td>电包1401</td>\n",
       "      <td>3</td>\n",
       "      <td>常盘台中学</td>\n",
       "      <td>是</td>\n",
       "      <td>1</td>\n",
       "      <td>帝丹学校</td>\n",
       "      <td>否</td>\n",
       "    </tr>\n",
       "    <tr>\n",
       "      <th>3</th>\n",
       "      <td>4</td>\n",
       "      <td>刘看山</td>\n",
       "      <td>76</td>\n",
       "      <td>68</td>\n",
       "      <td>81</td>\n",
       "      <td>1</td>\n",
       "      <td>卡萨布兰卡</td>\n",
       "      <td>25</td>\n",
       "      <td>电包1401</td>\n",
       "      <td>1</td>\n",
       "      <td>市立见泷原中学</td>\n",
       "      <td>否</td>\n",
       "      <td>2</td>\n",
       "      <td>艾利斯顿商学院</td>\n",
       "      <td>是</td>\n",
       "    </tr>\n",
       "    <tr>\n",
       "      <th>4</th>\n",
       "      <td>5</td>\n",
       "      <td>人群里的光头</td>\n",
       "      <td>89</td>\n",
       "      <td>99</td>\n",
       "      <td>96</td>\n",
       "      <td>2</td>\n",
       "      <td>TheShy</td>\n",
       "      <td>52</td>\n",
       "      <td>电包1301</td>\n",
       "      <td>2</td>\n",
       "      <td>很水中学</td>\n",
       "      <td>否</td>\n",
       "      <td>1</td>\n",
       "      <td>帝丹学校</td>\n",
       "      <td>否</td>\n",
       "    </tr>\n",
       "  </tbody>\n",
       "</table>\n",
       "</div>"
      ],
      "text/plain": [
       "   student    学生姓名  语文  数学  英语  mentor   班主任姓名  班主任年龄      班级  highSchool  \\\n",
       "0        1     卡萨丁  82  92  84       1   卡萨布兰卡     25  电包1401           1   \n",
       "1        2     姜子牙  73  87  94       1   卡萨布兰卡     25  电包1401           2   \n",
       "2        3   孙玉忠同志  86  89  99       1   卡萨布兰卡     25  电包1401           3   \n",
       "3        4     刘看山  76  68  81       1   卡萨布兰卡     25  电包1401           1   \n",
       "4        5  人群里的光头  89  99  96       2  TheShy     52  电包1301           2   \n",
       "\n",
       "       高中名 是否是示范性高中  middleSchool      初中名 是否是私立学校  \n",
       "0  市立见泷原中学        否             1     帝丹学校       否  \n",
       "1     很水中学        否             2  艾利斯顿商学院       是  \n",
       "2    常盘台中学        是             1     帝丹学校       否  \n",
       "3  市立见泷原中学        否             2  艾利斯顿商学院       是  \n",
       "4     很水中学        否             1     帝丹学校       否  "
      ]
     },
     "execution_count": 2,
     "metadata": {},
     "output_type": "execute_result"
    }
   ],
   "source": [
    "pd.read_csv(\"data/table2KG.csv\").head()"
   ]
  },
  {
   "cell_type": "markdown",
   "metadata": {},
   "source": [
    "无论多少数据，统一变为第一范式表格，每一个实体的id属性尽量在该实体数据范围内的第一列，以上表为例：\n",
    "\n",
    "- 学生实体在第1\\-5列\n",
    "\n",
    "- 班主任实体在第6\\-9列\n",
    "\n",
    "- 高中实体在第10\\-12列\n",
    "\n",
    "- 初中实体在第13\\-15列"
   ]
  },
  {
   "cell_type": "markdown",
   "metadata": {},
   "source": [
    "# 调用流程"
   ]
  },
  {
   "cell_type": "code",
   "execution_count": 3,
   "metadata": {},
   "outputs": [],
   "source": [
    "import A_restructureTable2KG as table2KG\n",
    "import B_upload2Neo as KG2Neo"
   ]
  },
  {
   "cell_type": "code",
   "execution_count": 4,
   "metadata": {},
   "outputs": [],
   "source": [
    "#构建数据解构参数\n",
    "parameters={\n",
    "    \"fileName\":\"data/table2KG.csv\",# 文件名尽量遵守windows命名规范，减少“.”的使用，最好csv\n",
    "    \"entityList\":[\"student\",\"mentor\",\"highSchool\",\"middleSchool\"],# 实体名：一维-list,作为ID\n",
    "    \"attrList\":[[\"学生姓名\",\"语文\",\"数学\",\"英语\",\"班级\"],[\"班主任姓名\",\"班主任年龄\",\"班级\"],[\"高中名\",\"是否是示范性高中\"],[\"初中名\",\"是否是私立学校\"]],# 属性名：二维-list\n",
    "    \"relationDict\":{\"student-highSchool\":\"__highSchool__\",\"student-middleSchool\":\"__middleSchool__\",\"mentor-student\":\"__monitor__\"},#实体间的关系,格式：{\"实体1-实体2\":\"关系名\"}\n",
    "    \"sheet\":\"\",#当文件时xls时使用\n",
    "    \"genFilePath\":\"data\"\n",
    "}"
   ]
  },
  {
   "cell_type": "code",
   "execution_count": 5,
   "metadata": {},
   "outputs": [
    {
     "name": "stdout",
     "output_type": "stream",
     "text": [
      "生成nodes文件...\n",
      "生成文件: data\\studentNodes.csv\n",
      "生成文件: data\\mentorNodes.csv\n",
      "生成文件: data\\highSchoolNodes.csv\n",
      "生成文件: data\\middleSchoolNodes.csv\n",
      "生成relationships文件...\n",
      "生成文件: data\\student-highSchool___highSchool__Relationships.csv\n",
      "生成文件: data\\student-middleSchool___middleSchool__Relationships.csv\n",
      "生成文件: data\\mentor-student___monitor__Relationships.csv\n"
     ]
    }
   ],
   "source": [
    "table2KG.main(parameters)"
   ]
  },
  {
   "cell_type": "code",
   "execution_count": 6,
   "metadata": {},
   "outputs": [
    {
     "name": "stderr",
     "output_type": "stream",
     "text": [
      "  0%|          | 0/8 [00:00<?, ?it/s]"
     ]
    },
    {
     "name": "stdout",
     "output_type": "stream",
     "text": [
      "['highSchoolNodes.csv', 'mentor-student___monitor__Relationships.csv', 'mentorNodes.csv', 'middleSchoolNodes.csv', 'student-highSchool___highSchool__Relationships.csv', 'student-middleSchool___middleSchool__Relationships.csv', 'studentNodes.csv', 'table2KG.csv']\n"
     ]
    },
    {
     "name": "stderr",
     "output_type": "stream",
     "text": [
      "100%|██████████| 8/8 [00:00<00:00, 725.20it/s]\n",
      "100%|██████████| 8/8 [00:00<00:00, 51.61it/s]"
     ]
    },
    {
     "name": "stdout",
     "output_type": "stream",
     "text": [
      "数据导入完成\n"
     ]
    },
    {
     "name": "stderr",
     "output_type": "stream",
     "text": [
      "\n"
     ]
    }
   ],
   "source": [
    "#上传数据\n",
    "KG2Neo.main()"
   ]
  }
 ],
 "metadata": {
  "kernelspec": {
   "display_name": "Python 3",
   "language": "python",
   "name": "python3"
  },
  "language_info": {
   "codemirror_mode": {
    "name": "ipython",
    "version": 3
   },
   "file_extension": ".py",
   "mimetype": "text/x-python",
   "name": "python",
   "nbconvert_exporter": "python",
   "pygments_lexer": "ipython3",
   "version": "3.7.6-final"
  }
 },
 "nbformat": 4,
 "nbformat_minor": 4
}
